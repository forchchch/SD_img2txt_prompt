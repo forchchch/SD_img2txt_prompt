{
 "cells": [
  {
   "cell_type": "code",
   "execution_count": null,
   "id": "1dd05636",
   "metadata": {},
   "outputs": [],
   "source": [
    "import sys\n",
    "sys.path.append(\"../\")\n",
    "from diffusers import StableDiffusionPipeline, EulerAncestralDiscreteScheduler\n",
    "import torch\n",
    "from lora_diffusion import tune_lora_scale, patch_pipe\n",
    "import open_clip\n",
    "from PIL import Image\n",
    "\n",
    "model_id = \"/DATA/DATANAS1/zhangyip/models/stable-diffusion-2-1-base\"\n",
    "\n",
    "with torch.no_grad():\n",
    "    pipe = StableDiffusionPipeline.from_pretrained(model_id).to(\"cuda\")\n",
    "    img_model, _, preprocess = open_clip.create_model_and_transforms('ViT-H-14', pretrained='laion2b_s32b_b79k')\n",
    "    img_model = img_model.to(\"cuda\")"
   ]
  },
  {
   "cell_type": "code",
   "execution_count": null,
   "id": "29b072e6",
   "metadata": {},
   "outputs": [],
   "source": [
    "patch_pipe(\n",
    "    pipe,\n",
    "    \"./output_dreambooth/t_disenft_add_no_prior_0.1original_debug/checkpoint/lora_weight_e399_s2400.pt\",\n",
    "    patch_text=True,\n",
    "    patch_ti=False,\n",
    "    patch_unet=True,\n",
    ")\n",
    "ref_image = preprocess(Image.open(\"/DATA/DATANAS1/chenhong/diffusion_research/dreambooth_data/backpack/03.jpg\")).unsqueeze(0).to(\"cuda\")"
   ]
  },
  {
   "cell_type": "code",
   "execution_count": null,
   "id": "384803db",
   "metadata": {},
   "outputs": [],
   "source": [
    "from visualization import joint_visualization\n",
    "prompt = \"a <s1>|<s2> backpack in the ocean\"\n",
    "tune_lora_scale(pipe.unet, 1.0)\n",
    "image = joint_visualization(pipe, img_model, prompt, ref_image, guidance=7.0, eta=1.0)[0]\n",
    "image"
   ]
  },
  {
   "cell_type": "code",
   "execution_count": null,
   "id": "a3909f6b",
   "metadata": {},
   "outputs": [],
   "source": []
  },
  {
   "cell_type": "code",
   "execution_count": null,
   "id": "bf22863c",
   "metadata": {},
   "outputs": [],
   "source": []
  }
 ],
 "metadata": {
  "kernelspec": {
   "display_name": "Python 3 (ipykernel)",
   "language": "python",
   "name": "python3"
  },
  "language_info": {
   "codemirror_mode": {
    "name": "ipython",
    "version": 3
   },
   "file_extension": ".py",
   "mimetype": "text/x-python",
   "name": "python",
   "nbconvert_exporter": "python",
   "pygments_lexer": "ipython3",
   "version": "3.10.9"
  }
 },
 "nbformat": 4,
 "nbformat_minor": 5
}
