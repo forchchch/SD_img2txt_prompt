{
 "cells": [
  {
   "cell_type": "code",
   "execution_count": 1,
   "id": "012dc878",
   "metadata": {},
   "outputs": [],
   "source": [
    "# import open_clip\n",
    "# open_clip.list_pretrained()\n",
    "# model, _, preprocess = open_clip.create_model_and_transforms('ViT-B-32', pretrained='openai')\n",
    "# tokenizer = open_clip.get_tokenizer('ViT-B-32')\n",
    "# from PIL import Image\n",
    "# import torch\n",
    "# image = preprocess( Image.open(\"/DATA/DATANAS1/chenhong/diffusion_research/dreambooth_data/vase/01.jpg\" ) ).unsqueeze(0)\n",
    "# text = tokenizer([\"a vase on the table\", \"many colorful flowers\", \"a cat on the grass\"])\n",
    "# with torch.no_grad():\n",
    "#     image_feature = model.encode_image(image)\n",
    "#     text_feature = model.encode_text(text)\n",
    "#     image_feature /= image_feature.norm(dim=-1, keepdim=True)\n",
    "#     text_feature /= text_feature.norm(dim=-1, keepdim=True)\n",
    "    \n",
    "#     text_prob = (100.0 * image_feature @ text_feature.T).softmax(dim=-1)\n",
    "#     print(text_prob)\n",
    "# open_clip.list_pretrained()\n",
    "# vits16 = torch.hub.load('facebookresearch/dino:main', 'dino_vits16')\n",
    "# from torchvision import transforms \n",
    "# transform = transforms.Compose([\n",
    "#         transforms.Resize(256, interpolation=3),\n",
    "#         transforms.CenterCrop(224),\n",
    "#         transforms.ToTensor(),\n",
    "#         transforms.Normalize((0.485, 0.456, 0.406), (0.229, 0.224, 0.225)),\n",
    "#     ])\n",
    "# image = Image.open(\"/DATA/DATANAS1/chenhong/diffusion_research/dreambooth_data/vase/01.jpg\" )\n",
    "# image1 = transform(image).unsqueeze(0)\n",
    "# vits16(image1).size()"
   ]
  },
  {
   "cell_type": "code",
   "execution_count": 6,
   "id": "034b1ab7",
   "metadata": {},
   "outputs": [],
   "source": [
    "from PIL import Image\n",
    "from evaluator import Evaluator\n",
    "my_evaluator = Evaluator(device = \"cuda:0\", model_name = \"ViT-H-14\")"
   ]
  },
  {
   "cell_type": "code",
   "execution_count": 13,
   "id": "891ab9d2",
   "metadata": {},
   "outputs": [
    {
     "name": "stdout",
     "output_type": "stream",
     "text": [
      "0.59833556 0.27777123\n",
      "0.22685817 0.38735732 0.035994776\n"
     ]
    }
   ],
   "source": [
    "import numpy\n",
    "img1 = Image.open(\"/DATA/DATANAS1/chenhong/diffusion_research/dreambooth_data/vase/01.jpg\" )\n",
    "# img2 = Image.open(\"/DATA/DATANAS1/chenhong/diffusion_research/dreambooth_data/vase/02.jpg\" )\n",
    "img2 = Image.open(\"/DATA/DATANAS1/chenhong/diffusion_research/lora/disen_dreambooth/output_dreambooth/t_disenft_0.1origin_vase/generated_images/133_800_edit.jpg\")\n",
    "img3 = Image.open(\"/DATA/DATANAS1/chenhong/diffusion_research/dreambooth_data/backpack/01.jpg\" )\n",
    "text = \"a vase on the beach\"\n",
    "vase_sim = my_evaluator.image_similarity(img1, img2).cpu().numpy()\n",
    "vase_bag_sim = my_evaluator.image_similarity(img2, img3).cpu().numpy()\n",
    "print(vase_sim, vase_bag_sim)\n",
    "vase_text_sim = my_evaluator.txt_img_similarity(text, img1).cpu().numpy()\n",
    "g_vase_text_sim = my_evaluator.txt_img_similarity(text, img2).cpu().numpy()\n",
    "bag_text_sim = my_evaluator.txt_img_similarity(text, img3).cpu().numpy()\n",
    "print(vase_text_sim, g_vase_text_sim, bag_text_sim)"
   ]
  },
  {
   "cell_type": "code",
   "execution_count": 9,
   "id": "3c21e468",
   "metadata": {},
   "outputs": [
    {
     "name": "stdout",
     "output_type": "stream",
     "text": [
      "0.2605991 0.28958622 0.039411537\n"
     ]
    }
   ],
   "source": []
  },
  {
   "cell_type": "code",
   "execution_count": null,
   "id": "25317ebb",
   "metadata": {},
   "outputs": [],
   "source": []
  },
  {
   "cell_type": "code",
   "execution_count": null,
   "id": "ccc4ebc9",
   "metadata": {},
   "outputs": [],
   "source": []
  }
 ],
 "metadata": {
  "kernelspec": {
   "display_name": "Python 3 (ipykernel)",
   "language": "python",
   "name": "python3"
  },
  "language_info": {
   "codemirror_mode": {
    "name": "ipython",
    "version": 3
   },
   "file_extension": ".py",
   "mimetype": "text/x-python",
   "name": "python",
   "nbconvert_exporter": "python",
   "pygments_lexer": "ipython3",
   "version": "3.10.9"
  }
 },
 "nbformat": 4,
 "nbformat_minor": 5
}
